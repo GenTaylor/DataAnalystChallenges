{
 "cells": [
  {
   "cell_type": "markdown",
   "metadata": {},
   "source": [
    "## Shipt Data Analyst Take Home Assessment "
   ]
  },
  {
   "cell_type": "markdown",
   "metadata": {},
   "source": [
    "Genesis L. Taylor<br>\n",
    "[Linkedin](https://linkedin.com/in/genesistaylor/) | [Tableau](https://public.tableau.com/profile/genesis.taylor#!/) | [genesisltaylor@gmail.com](mailto:genesisltaylor@gmail.com) | [Github](https://github.com/GenTaylor/) | "
   ]
  },
  {
   "cell_type": "markdown",
   "metadata": {},
   "source": [
    "#### Directions:"
   ]
  },
  {
   "cell_type": "markdown",
   "metadata": {},
   "source": [
    "Complete and return to me within 48 hours. Please do questions 1, 2, 3, skip, 4, 5, 6 (for extra points you can complete these). When you get to additional questions, pick one of the two questions. If there are any issues, please let me know. Please return in these formats: PDF or HTML"
   ]
  },
  {
   "cell_type": "markdown",
   "metadata": {},
   "source": [
    "#### Modules and Packages"
   ]
  },
  {
   "cell_type": "code",
   "execution_count": 1,
   "metadata": {},
   "outputs": [],
   "source": [
    "import pandas as pd\n",
    "import numpy as np\n",
    "import matplotlib.pyplot as plt\n",
    "%matplotlib inline\n",
    "import seaborn as sns"
   ]
  },
  {
   "cell_type": "markdown",
   "metadata": {},
   "source": [
    "##### Questions 1, 2, and 3 deal with “InterviewData_Cost.csv” and “InterviewData_Rev.csv”."
   ]
  },
  {
   "cell_type": "code",
   "execution_count": 2,
   "metadata": {},
   "outputs": [],
   "source": [
    "#Cost and Revenue Datasets\n",
    "costdf = pd.read_csv(\"InterviewData_Cost.csv\")\n",
    "revdf = pd.read_csv(\"InterviewData_Rev.csv\")"
   ]
  },
  {
   "cell_type": "code",
   "execution_count": 3,
   "metadata": {},
   "outputs": [
    {
     "name": "stdout",
     "output_type": "stream",
     "text": [
      "Cost's Columns: Index(['date', 'source_id', 'cost'], dtype='object')\n",
      "Revenue's Columns: Index(['date', 'source_id', 'revenue'], dtype='object')\n",
      "\n",
      "\n",
      "Cost Shape: (10000, 3)\n",
      "Revenue Shape: (10000, 3)\n"
     ]
    }
   ],
   "source": [
    "#columns\n",
    "print(\"Cost's Columns:\",costdf.columns)\n",
    "print(\"Revenue's Columns:\",revdf.columns)\n",
    "\n",
    "print(\"\\n\")\n",
    "\n",
    "#dataframe shapes\n",
    "print(\"Cost Shape:\",costdf.shape)\n",
    "print(\"Revenue Shape:\", revdf.shape)"
   ]
  },
  {
   "cell_type": "markdown",
   "metadata": {},
   "source": [
    "#### Question 1:\n",
    "Using any functions/packages you want, join these two data sets by “date” and “source_id”, returning\n",
    "all rows from both regardless of whether there is a match between the two data sets."
   ]
  },
  {
   "cell_type": "code",
   "execution_count": 4,
   "metadata": {},
   "outputs": [
    {
     "data": {
      "text/html": [
       "<div>\n",
       "<style scoped>\n",
       "    .dataframe tbody tr th:only-of-type {\n",
       "        vertical-align: middle;\n",
       "    }\n",
       "\n",
       "    .dataframe tbody tr th {\n",
       "        vertical-align: top;\n",
       "    }\n",
       "\n",
       "    .dataframe thead th {\n",
       "        text-align: right;\n",
       "    }\n",
       "</style>\n",
       "<table border=\"1\" class=\"dataframe\">\n",
       "  <thead>\n",
       "    <tr style=\"text-align: right;\">\n",
       "      <th></th>\n",
       "      <th>date</th>\n",
       "      <th>source_id</th>\n",
       "      <th>cost</th>\n",
       "      <th>revenue</th>\n",
       "    </tr>\n",
       "  </thead>\n",
       "  <tbody>\n",
       "    <tr>\n",
       "      <th>0</th>\n",
       "      <td>10/17/14</td>\n",
       "      <td>PA0577</td>\n",
       "      <td>7168.0</td>\n",
       "      <td>8417.0</td>\n",
       "    </tr>\n",
       "    <tr>\n",
       "      <th>1</th>\n",
       "      <td>8/17/14</td>\n",
       "      <td>PA0354</td>\n",
       "      <td>7615.0</td>\n",
       "      <td>4200.0</td>\n",
       "    </tr>\n",
       "    <tr>\n",
       "      <th>2</th>\n",
       "      <td>1/7/14</td>\n",
       "      <td>PA0607</td>\n",
       "      <td>4054.0</td>\n",
       "      <td>7935.0</td>\n",
       "    </tr>\n",
       "    <tr>\n",
       "      <th>3</th>\n",
       "      <td>8/25/14</td>\n",
       "      <td>PA0745</td>\n",
       "      <td>9317.0</td>\n",
       "      <td>5536.0</td>\n",
       "    </tr>\n",
       "    <tr>\n",
       "      <th>4</th>\n",
       "      <td>11/30/14</td>\n",
       "      <td>PA0923</td>\n",
       "      <td>5586.0</td>\n",
       "      <td>NaN</td>\n",
       "    </tr>\n",
       "  </tbody>\n",
       "</table>\n",
       "</div>"
      ],
      "text/plain": [
       "       date source_id    cost  revenue\n",
       "0  10/17/14    PA0577  7168.0   8417.0\n",
       "1   8/17/14    PA0354  7615.0   4200.0\n",
       "2    1/7/14    PA0607  4054.0   7935.0\n",
       "3   8/25/14    PA0745  9317.0   5536.0\n",
       "4  11/30/14    PA0923  5586.0      NaN"
      ]
     },
     "execution_count": 4,
     "metadata": {},
     "output_type": "execute_result"
    }
   ],
   "source": [
    "#merge dataframes on 'date' and 'source_id' columns.\n",
    "cost_rev = pd.merge (costdf, revdf,  on = [\"date\", \"source_id\"], how = \"outer\")\n",
    "\n",
    "cost_rev.head()"
   ]
  },
  {
   "cell_type": "markdown",
   "metadata": {},
   "source": [
    "#### Question 2:\n",
    "Using any functions/packages you want, join these two data sets by “date” and “source_id”, returning\n",
    "only the rows from the “Cost” file that have no corresponding date in the “Revenue” file."
   ]
  },
  {
   "cell_type": "code",
   "execution_count": 5,
   "metadata": {},
   "outputs": [
    {
     "name": "stdout",
     "output_type": "stream",
     "text": [
      "Cost dates that have no corresponding revenue dates: 4609\n"
     ]
    }
   ],
   "source": [
    "'''\n",
    "Taking the previously joined datasets that were formed into a dataframe and using that dataframe \n",
    "to find the rows where \"cost\" has no corresponding date for \"revenue\"\n",
    "'''\n",
    "\n",
    "no_rev = cost_rev[(pd.notnull(cost_rev[\"cost\"]) & pd.isnull(cost_rev[\"revenue\"]))]\n",
    "\n",
    "print('Cost dates that have no corresponding revenue dates:',no_rev.shape[0])"
   ]
  },
  {
   "cell_type": "markdown",
   "metadata": {},
   "source": [
    "##### There are 4,609 rows where cost dates have no corresponding revenue dates. "
   ]
  },
  {
   "cell_type": "markdown",
   "metadata": {},
   "source": [
    "#### Question 3:\n",
    "Using your result from #1, what are the Top 4 sources (“source_id” values) in terms of total revenue\n",
    "generation across this data set? How would you visualize the monthly revenue for those Top 4 sources?\n",
    "(note: you don’t need to actually create a plot; you can just describe what your ideal visual would look\n",
    "like)"
   ]
  },
  {
   "cell_type": "code",
   "execution_count": 6,
   "metadata": {},
   "outputs": [
    {
     "data": {
      "text/html": [
       "<div>\n",
       "<style scoped>\n",
       "    .dataframe tbody tr th:only-of-type {\n",
       "        vertical-align: middle;\n",
       "    }\n",
       "\n",
       "    .dataframe tbody tr th {\n",
       "        vertical-align: top;\n",
       "    }\n",
       "\n",
       "    .dataframe thead th {\n",
       "        text-align: right;\n",
       "    }\n",
       "</style>\n",
       "<table border=\"1\" class=\"dataframe\">\n",
       "  <thead>\n",
       "    <tr style=\"text-align: right;\">\n",
       "      <th></th>\n",
       "      <th>cost</th>\n",
       "      <th>revenue</th>\n",
       "    </tr>\n",
       "    <tr>\n",
       "      <th>source_id</th>\n",
       "      <th></th>\n",
       "      <th></th>\n",
       "    </tr>\n",
       "  </thead>\n",
       "  <tbody>\n",
       "    <tr>\n",
       "      <th>PA0527</th>\n",
       "      <td>1023620.0</td>\n",
       "      <td>1385747.0</td>\n",
       "    </tr>\n",
       "    <tr>\n",
       "      <th>PA0308</th>\n",
       "      <td>894082.0</td>\n",
       "      <td>1338615.0</td>\n",
       "    </tr>\n",
       "    <tr>\n",
       "      <th>PA0352</th>\n",
       "      <td>974021.0</td>\n",
       "      <td>1309685.0</td>\n",
       "    </tr>\n",
       "    <tr>\n",
       "      <th>PA0552</th>\n",
       "      <td>868176.0</td>\n",
       "      <td>1283190.0</td>\n",
       "    </tr>\n",
       "  </tbody>\n",
       "</table>\n",
       "</div>"
      ],
      "text/plain": [
       "                cost    revenue\n",
       "source_id                      \n",
       "PA0527     1023620.0  1385747.0\n",
       "PA0308      894082.0  1338615.0\n",
       "PA0352      974021.0  1309685.0\n",
       "PA0552      868176.0  1283190.0"
      ]
     },
     "execution_count": 6,
     "metadata": {},
     "output_type": "execute_result"
    }
   ],
   "source": [
    "'''\n",
    "In order to get the top 4 sources I am going to group the values by source and revenue,\n",
    "get the sum of those values, sort them in ascending order, then recall the 1st 4 rows.\n",
    "'''\n",
    "top_4_sources = cost_rev.groupby([\"source_id\"]).sum().sort_values(\"revenue\", ascending=False).head(4)\n",
    "\n",
    "#top 4 sources\n",
    "top_4_sources"
   ]
  },
  {
   "cell_type": "code",
   "execution_count": 7,
   "metadata": {},
   "outputs": [],
   "source": [
    "'''\n",
    "Create a month column from the date column in the cost_rev dataframe.\n",
    "'''\n",
    "cost_rev['date'] = pd.to_datetime(cost_rev['date'])\n",
    "cost_rev['month'] = cost_rev.date.dt.strftime('%m')\n"
   ]
  },
  {
   "cell_type": "code",
   "execution_count": 8,
   "metadata": {},
   "outputs": [
    {
     "data": {
      "text/html": [
       "<div>\n",
       "<style scoped>\n",
       "    .dataframe tbody tr th:only-of-type {\n",
       "        vertical-align: middle;\n",
       "    }\n",
       "\n",
       "    .dataframe tbody tr th {\n",
       "        vertical-align: top;\n",
       "    }\n",
       "\n",
       "    .dataframe thead th {\n",
       "        text-align: right;\n",
       "    }\n",
       "</style>\n",
       "<table border=\"1\" class=\"dataframe\">\n",
       "  <thead>\n",
       "    <tr style=\"text-align: right;\">\n",
       "      <th></th>\n",
       "      <th>date</th>\n",
       "      <th>source_id</th>\n",
       "      <th>cost</th>\n",
       "      <th>revenue</th>\n",
       "      <th>month</th>\n",
       "    </tr>\n",
       "  </thead>\n",
       "  <tbody>\n",
       "    <tr>\n",
       "      <th>16</th>\n",
       "      <td>2014-03-29</td>\n",
       "      <td>PA0552</td>\n",
       "      <td>7894.0</td>\n",
       "      <td>NaN</td>\n",
       "      <td>03</td>\n",
       "    </tr>\n",
       "    <tr>\n",
       "      <th>22</th>\n",
       "      <td>2014-08-21</td>\n",
       "      <td>PA0552</td>\n",
       "      <td>4653.0</td>\n",
       "      <td>NaN</td>\n",
       "      <td>08</td>\n",
       "    </tr>\n",
       "    <tr>\n",
       "      <th>27</th>\n",
       "      <td>2014-04-28</td>\n",
       "      <td>PA0308</td>\n",
       "      <td>3958.0</td>\n",
       "      <td>10863.0</td>\n",
       "      <td>04</td>\n",
       "    </tr>\n",
       "    <tr>\n",
       "      <th>65</th>\n",
       "      <td>2014-12-20</td>\n",
       "      <td>PA0552</td>\n",
       "      <td>2092.0</td>\n",
       "      <td>NaN</td>\n",
       "      <td>12</td>\n",
       "    </tr>\n",
       "    <tr>\n",
       "      <th>76</th>\n",
       "      <td>2014-08-13</td>\n",
       "      <td>PA0308</td>\n",
       "      <td>777.0</td>\n",
       "      <td>3863.0</td>\n",
       "      <td>08</td>\n",
       "    </tr>\n",
       "    <tr>\n",
       "      <th>...</th>\n",
       "      <td>...</td>\n",
       "      <td>...</td>\n",
       "      <td>...</td>\n",
       "      <td>...</td>\n",
       "      <td>...</td>\n",
       "    </tr>\n",
       "    <tr>\n",
       "      <th>14543</th>\n",
       "      <td>2014-07-26</td>\n",
       "      <td>PA0308</td>\n",
       "      <td>NaN</td>\n",
       "      <td>1262.0</td>\n",
       "      <td>07</td>\n",
       "    </tr>\n",
       "    <tr>\n",
       "      <th>14545</th>\n",
       "      <td>2014-07-02</td>\n",
       "      <td>PA0308</td>\n",
       "      <td>NaN</td>\n",
       "      <td>3582.0</td>\n",
       "      <td>07</td>\n",
       "    </tr>\n",
       "    <tr>\n",
       "      <th>14558</th>\n",
       "      <td>2014-10-14</td>\n",
       "      <td>PA0308</td>\n",
       "      <td>NaN</td>\n",
       "      <td>10001.0</td>\n",
       "      <td>10</td>\n",
       "    </tr>\n",
       "    <tr>\n",
       "      <th>14580</th>\n",
       "      <td>2014-07-05</td>\n",
       "      <td>PA0308</td>\n",
       "      <td>NaN</td>\n",
       "      <td>11646.0</td>\n",
       "      <td>07</td>\n",
       "    </tr>\n",
       "    <tr>\n",
       "      <th>14594</th>\n",
       "      <td>2014-10-22</td>\n",
       "      <td>PA0352</td>\n",
       "      <td>NaN</td>\n",
       "      <td>10070.0</td>\n",
       "      <td>10</td>\n",
       "    </tr>\n",
       "  </tbody>\n",
       "</table>\n",
       "<p>1187 rows × 5 columns</p>\n",
       "</div>"
      ],
      "text/plain": [
       "            date source_id    cost  revenue month\n",
       "16    2014-03-29    PA0552  7894.0      NaN    03\n",
       "22    2014-08-21    PA0552  4653.0      NaN    08\n",
       "27    2014-04-28    PA0308  3958.0  10863.0    04\n",
       "65    2014-12-20    PA0552  2092.0      NaN    12\n",
       "76    2014-08-13    PA0308   777.0   3863.0    08\n",
       "...          ...       ...     ...      ...   ...\n",
       "14543 2014-07-26    PA0308     NaN   1262.0    07\n",
       "14545 2014-07-02    PA0308     NaN   3582.0    07\n",
       "14558 2014-10-14    PA0308     NaN  10001.0    10\n",
       "14580 2014-07-05    PA0308     NaN  11646.0    07\n",
       "14594 2014-10-22    PA0352     NaN  10070.0    10\n",
       "\n",
       "[1187 rows x 5 columns]"
      ]
     },
     "execution_count": 8,
     "metadata": {},
     "output_type": "execute_result"
    }
   ],
   "source": [
    "top4rev = cost_rev[(cost_rev['source_id'].isin(['PA0527','PA0308','PA0352','PA0552']))]\n",
    "top4rev"
   ]
  },
  {
   "cell_type": "code",
   "execution_count": 9,
   "metadata": {},
   "outputs": [],
   "source": [
    "top4rev.to_csv(r'top4rev.csv', index = False, header=True)"
   ]
  },
  {
   "cell_type": "code",
   "execution_count": 54,
   "metadata": {},
   "outputs": [
    {
     "data": {
      "image/png": "[encoded data removed]",
      "text/plain": [
       "<Figure size 1584x1080 with 1 Axes>"
      ]
     },
     "metadata": {
      "needs_background": "light"
     },
     "output_type": "display_data"
    }
   ],
   "source": [
    "#create a pivot table that will easily summarize the data\n",
    "\n",
    "top4tbl = pd.pivot_table(top4rev, values='revenue', index=['month'], \n",
    "                         columns=['source_id'], fill_value=0, aggfunc=np.sum)\n",
    "\n",
    "labels= ['Jan', 'Feb','Mar','Apr','May','June','July','Aug','Sept','Oct','Nov','Dec' ]\n",
    "top4tbl.index = labels\n",
    "\n",
    "top4tbl.plot(kind='bar', figsize=(22, 15), cmap='Set1')\n",
    "\n",
    "\n",
    "plt.xlabel('\\nMonth',fontsize=20, fontweight=\"bold\")\n",
    "\n",
    "plt.ylabel('Revenue Per Month\\n',fontsize=20, fontweight=\"bold\")\n",
    "plt.xticks(fontsize=15, rotation=0)\n",
    "plt.yticks(fontsize=15)\n",
    "plt.title('Revenue Per Month for Top 4 Sources\\n',fontsize=25,fontweight=\"bold\")\n",
    "plt.legend(fontsize='18', loc = 'upper left', title='Sources', title_fontsize='22')\n",
    "plt.show()\n"
   ]
  },
  {
   "cell_type": "code",
   "execution_count": null,
   "metadata": {},
   "outputs": [],
   "source": []
  },
  {
   "cell_type": "code",
   "execution_count": null,
   "metadata": {},
   "outputs": [],
   "source": []
  },
  {
   "cell_type": "code",
   "execution_count": null,
   "metadata": {},
   "outputs": [],
   "source": []
  }
 ],
 "metadata": {
  "kernelspec": {
   "display_name": "Python 3",
   "language": "python",
   "name": "python3"
  },
  "language_info": {
   "codemirror_mode": {
    "name": "ipython",
    "version": 3
   },
   "file_extension": ".py",
   "mimetype": "text/x-python",
   "name": "python",
   "nbconvert_exporter": "python",
   "pygments_lexer": "ipython3",
   "version": "3.8.3"
  }
 },
 "nbformat": 4,
 "nbformat_minor": 4
}
